{
 "cells": [
  {
   "cell_type": "markdown",
   "id": "668ec42a",
   "metadata": {},
   "source": [
    "1. If I need to copy a folder to GCP, use next command on linux:\n",
    "<<gsutil -m cp -r pq/ gs://nyc-tl-data-marlon-2/pq>>\n",
    "2. https://cloud.google.com/dataproc/docs/concepts/connectors/cloud-storage?hl=es-419#clusters\n",
    "3. mkdir lib    --> cd lib\n",
    "4. gsutil cp  gs://hadoop-lib/gcs/gcs-connector-hadoop3-2.2.5.jar gcs-connector-hadoop3-2.2.5.jar"
   ]
  },
  {
   "cell_type": "code",
   "execution_count": 2,
   "id": "3307b886",
   "metadata": {},
   "outputs": [],
   "source": [
    "import pyspark\n",
    "from pyspark.sql import SparkSession\n",
    "from pyspark.conf import SparkConf\n",
    "from pyspark.context import SparkContext"
   ]
  },
  {
   "cell_type": "code",
   "execution_count": 4,
   "id": "9f0ddbff",
   "metadata": {},
   "outputs": [],
   "source": [
    "credentials_location = '/home/mlops/.google/credentials/google_credentials.json'\n",
    "\n",
    "conf = SparkConf() \\\n",
    "    .setMaster('local[*]') \\\n",
    "    .setAppName('test') \\\n",
    "    .set(\"spark.jars\", \"./lib/gcs-connector-hadoop3-2.2.5.jar\") \\\n",
    "    .set(\"spark.hadoop.google.cloud.auth.service.account.enable\", \"true\") \\\n",
    "    .set(\"spark.hadoop.google.cloud.auth.service.account.json.keyfile\", credentials_location)"
   ]
  },
  {
   "cell_type": "code",
   "execution_count": 5,
   "id": "b83404e8",
   "metadata": {},
   "outputs": [
    {
     "name": "stderr",
     "output_type": "stream",
     "text": [
      "24/03/03 14:18:36 WARN Utils: Your hostname, MarlonPenuela resolves to a loopback address: 127.0.1.1; using 172.18.73.232 instead (on interface eth0)\n",
      "24/03/03 14:18:36 WARN Utils: Set SPARK_LOCAL_IP if you need to bind to another address\n",
      "24/03/03 14:18:37 WARN NativeCodeLoader: Unable to load native-hadoop library for your platform... using builtin-java classes where applicable\n",
      "Setting default log level to \"WARN\".\n",
      "To adjust logging level use sc.setLogLevel(newLevel). For SparkR, use setLogLevel(newLevel).\n"
     ]
    }
   ],
   "source": [
    "sc = SparkContext(conf=conf)\n",
    "\n",
    "hadoop_conf = sc._jsc.hadoopConfiguration()\n",
    "\n",
    "hadoop_conf.set(\"fs.AbstractFileSystem.gs.impl\",  \"com.google.cloud.hadoop.fs.gcs.GoogleHadoopFS\")\n",
    "hadoop_conf.set(\"fs.gs.impl\", \"com.google.cloud.hadoop.fs.gcs.GoogleHadoopFileSystem\")\n",
    "hadoop_conf.set(\"fs.gs.auth.service.account.json.keyfile\", credentials_location)\n",
    "hadoop_conf.set(\"fs.gs.auth.service.account.enable\", \"true\")"
   ]
  },
  {
   "cell_type": "code",
   "execution_count": 6,
   "id": "c4713e2b",
   "metadata": {},
   "outputs": [],
   "source": [
    "spark = SparkSession.builder \\\n",
    "    .config(conf=sc.getConf()) \\\n",
    "    .getOrCreate()"
   ]
  },
  {
   "cell_type": "code",
   "execution_count": 8,
   "id": "1ee1eb1d",
   "metadata": {},
   "outputs": [
    {
     "name": "stderr",
     "output_type": "stream",
     "text": [
      "                                                                                \r"
     ]
    }
   ],
   "source": [
    "df_green = spark.read.parquet('gs://nyc-tl-data-marlon-2/pq/green/*/*')"
   ]
  },
  {
   "cell_type": "code",
   "execution_count": 9,
   "id": "104b40ab",
   "metadata": {},
   "outputs": [
    {
     "name": "stderr",
     "output_type": "stream",
     "text": [
      "                                                                                \r"
     ]
    },
    {
     "data": {
      "text/plain": [
       "2304517"
      ]
     },
     "execution_count": 9,
     "metadata": {},
     "output_type": "execute_result"
    }
   ],
   "source": [
    "df_green.count()"
   ]
  },
  {
   "cell_type": "code",
   "execution_count": 10,
   "id": "f56a885d",
   "metadata": {
    "scrolled": true
   },
   "outputs": [
    {
     "name": "stderr",
     "output_type": "stream",
     "text": [
      "                                                                                \r"
     ]
    },
    {
     "name": "stdout",
     "output_type": "stream",
     "text": [
      "+--------+--------------------+---------------------+------------------+----------+------------+------------+---------------+-------------+-----------+-----+-------+----------+------------+---------+---------------------+------------+------------+---------+--------------------+\n",
      "|VendorID|lpep_pickup_datetime|lpep_dropoff_datetime|store_and_fwd_flag|RatecodeID|PULocationID|DOLocationID|passenger_count|trip_distance|fare_amount|extra|mta_tax|tip_amount|tolls_amount|ehail_fee|improvement_surcharge|total_amount|payment_type|trip_type|congestion_surcharge|\n",
      "+--------+--------------------+---------------------+------------------+----------+------------+------------+---------------+-------------+-----------+-----+-------+----------+------------+---------+---------------------+------------+------------+---------+--------------------+\n",
      "|       1| 2020-01-21 08:09:42|  2020-01-21 08:24:52|                 N|         1|           7|          82|              1|          2.9|       14.0|  0.0|    0.5|       0.0|         0.0|     NULL|                  0.3|        14.8|           2|        1|                 0.0|\n",
      "|       2| 2020-01-28 19:42:20|  2020-01-28 19:51:10|                 N|         1|          95|         196|              1|         1.35|        7.5|  1.0|    0.5|       0.0|         0.0|     NULL|                  0.3|         9.3|           2|        1|                 0.0|\n",
      "|       1| 2020-01-21 18:37:21|  2020-01-21 18:54:06|                 N|         1|         244|          75|              1|          6.2|       19.0|  1.0|    0.5|       0.0|         0.0|     NULL|                  0.3|        20.8|           2|        1|                 0.0|\n",
      "|       2| 2020-01-08 12:58:33|  2020-01-08 13:10:08|                 N|         1|          42|          75|              1|         1.64|        9.0|  0.0|    0.5|       0.0|         0.0|     NULL|                  0.3|         9.8|           2|        1|                 0.0|\n",
      "|       2| 2020-01-06 19:46:03|  2020-01-06 19:51:46|                 N|         1|         146|           7|              1|         1.07|        6.0|  1.0|    0.5|      1.56|         0.0|     NULL|                  0.3|        9.36|           1|        1|                 0.0|\n",
      "|       2| 2020-01-25 08:51:04|  2020-01-25 08:59:32|                 N|         1|         127|         220|              1|         1.89|        8.5|  0.0|    0.5|       0.0|         0.0|     NULL|                  0.3|         9.3|           2|        1|                 0.0|\n",
      "|       2| 2020-01-08 21:34:13|  2020-01-08 21:39:04|                 N|         1|          75|          75|              1|         0.62|        5.0|  0.5|    0.5|       0.0|         0.0|     NULL|                  0.3|         6.3|           1|        1|                 0.0|\n",
      "|       2| 2020-01-18 01:05:27|  2020-01-18 01:10:43|                 N|         1|         166|         166|              2|         0.75|        5.0|  0.5|    0.5|       0.0|         0.0|     NULL|                  0.3|         6.3|           2|        1|                 0.0|\n",
      "|       1| 2020-01-22 21:40:43|  2020-01-22 21:52:01|                 N|         1|         255|          37|              1|          2.0|        9.0|  0.5|    0.5|       0.0|         0.0|     NULL|                  0.3|        10.3|           3|        1|                 0.0|\n",
      "|       2| 2020-01-24 17:04:02|  2020-01-24 17:15:11|                 N|         1|          83|         129|              1|         1.09|        8.0|  1.0|    0.5|      1.96|         0.0|     NULL|                  0.3|       11.76|           1|        1|                 0.0|\n",
      "|       2| 2020-01-08 15:04:27|  2020-01-08 15:08:33|                 N|         1|          66|          33|              1|         0.69|        4.5|  0.0|    0.5|      1.06|         0.0|     NULL|                  0.3|        6.36|           1|        1|                 0.0|\n",
      "|    NULL| 2020-01-02 08:07:00|  2020-01-02 08:35:00|              NULL|      NULL|          32|          96|           NULL|        15.88|      47.75| 2.75|    0.0|       0.0|        6.12|     NULL|                  0.3|       56.92|        NULL|     NULL|                NULL|\n",
      "|       2| 2020-01-18 17:07:01|  2020-01-18 17:30:10|                 N|         1|         152|         243|              1|          2.8|       15.0|  0.0|    0.5|      3.16|         0.0|     NULL|                  0.3|       18.96|           1|        1|                 0.0|\n",
      "|       2| 2020-01-11 20:59:11|  2020-01-11 21:04:08|                 N|         1|          25|         181|              1|          1.0|        5.5|  0.5|    0.5|       0.0|         0.0|     NULL|                  0.3|         6.8|           2|        1|                 0.0|\n",
      "|       2| 2020-01-12 01:59:05|  2020-01-12 02:04:22|                 N|         1|         129|          82|              1|         0.77|        5.0|  0.5|    0.5|       0.0|         0.0|     NULL|                  0.3|         6.3|           2|        1|                 0.0|\n",
      "|    NULL| 2020-01-17 12:20:00|  2020-01-17 12:49:00|              NULL|      NULL|         140|         217|           NULL|         7.13|      32.77| 2.75|    0.0|       0.0|         0.0|     NULL|                  0.3|       35.82|        NULL|     NULL|                NULL|\n",
      "|    NULL| 2020-01-03 14:27:00|  2020-01-03 14:49:00|              NULL|      NULL|         140|         136|           NULL|         9.06|      27.13|  0.0|    0.0|       0.0|         0.0|     NULL|                  0.3|       27.43|        NULL|     NULL|                NULL|\n",
      "|       2| 2020-01-21 19:37:26|  2020-01-21 19:47:32|                 N|         1|         226|           7|              2|         1.06|        8.0|  1.0|    0.5|       0.0|         0.0|     NULL|                  0.3|         9.8|           2|        1|                 0.0|\n",
      "|    NULL| 2020-01-27 09:41:00|  2020-01-27 10:00:00|              NULL|      NULL|         210|          21|           NULL|         2.71|      17.65| 2.75|    0.5|       0.0|         0.0|     NULL|                  0.3|        21.2|        NULL|     NULL|                NULL|\n",
      "|    NULL| 2020-01-16 05:56:00|  2020-01-16 06:47:00|              NULL|      NULL|         117|          33|           NULL|        17.17|      49.25| 2.75|    0.0|       0.0|        2.29|     NULL|                  0.3|       54.59|        NULL|     NULL|                NULL|\n",
      "+--------+--------------------+---------------------+------------------+----------+------------+------------+---------------+-------------+-----------+-----+-------+----------+------------+---------+---------------------+------------+------------+---------+--------------------+\n",
      "only showing top 20 rows\n",
      "\n"
     ]
    }
   ],
   "source": [
    "df_green.show()"
   ]
  }
 ],
 "metadata": {
  "kernelspec": {
   "display_name": "Python 3 (ipykernel)",
   "language": "python",
   "name": "python3"
  },
  "language_info": {
   "codemirror_mode": {
    "name": "ipython",
    "version": 3
   },
   "file_extension": ".py",
   "mimetype": "text/x-python",
   "name": "python",
   "nbconvert_exporter": "python",
   "pygments_lexer": "ipython3",
   "version": "3.9.12"
  }
 },
 "nbformat": 4,
 "nbformat_minor": 5
}
